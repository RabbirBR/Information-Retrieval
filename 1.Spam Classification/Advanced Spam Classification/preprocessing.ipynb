{
 "cells": [
  {
   "cell_type": "code",
   "execution_count": null,
   "metadata": {},
   "outputs": [],
   "source": [
    "# DAT640 - Assignment 1b - Preprocessing\n",
    "# Name:    Rabbir Bin Rabbani\n",
    "# ID:      247988\n",
    "# Team:    004"
   ]
  },
  {
   "cell_type": "code",
   "execution_count": 2,
   "metadata": {},
   "outputs": [],
   "source": [
    "# This is not the main code for the assignment, the main code is named 'assignemnt_1b', same as the assignment.\n",
    "# This is a preprocessing file I made since it takes around 20 minutes to process the data and I put it in one csv file to save time on my part."
   ]
  },
  {
   "cell_type": "code",
   "execution_count": 3,
   "metadata": {},
   "outputs": [],
   "source": [
    "import nltk\n",
    "from nltk.tokenize import word_tokenize\n",
    "import numpy as np\n",
    "import pandas as pd\n",
    "import email\n",
    "import re\n",
    "import os\n",
    "from collections import Counter\n",
    "\n",
    "# define wordlist and stopwords in English.\n",
    "stopwords = set(nltk.corpus.stopwords.words('english'))\n",
    "wordlists = set(nltk.corpus.words.words())\n",
    "\n",
    "from IPython.display import clear_output # Using IPython.display.clear_output to clear the output of a cell."
   ]
  },
  {
   "cell_type": "code",
   "execution_count": 4,
   "metadata": {},
   "outputs": [],
   "source": [
    "def process_email_data(file_path):\n",
    "    print(file_path, end=\" \")\n",
    "    email_body, email_subject = \"\", \"\"\n",
    "    \n",
    "    mail = email.message_from_string(open(main_file_path+file_path, encoding = 'ISO-8859-1').read())\n",
    "        \n",
    "    # Get E-mail subject\n",
    "    email_subject = mail['subject']\n",
    "    \n",
    "    # Get E-mail body\n",
    "    if mail.is_multipart():\n",
    "        for payload in mail.get_payload():\n",
    "            # if payload.is_multipart() then.. \n",
    "            email_body = payload.get_payload()\n",
    "    else:\n",
    "        email_body = mail.get_payload()\n",
    "    \n",
    "    # If body has no value\n",
    "    if type(email_body) is not str:\n",
    "        # If body has no value then make it an empty string\n",
    "        if not email_body:\n",
    "            email_body = \"\"\n",
    "        # If body was multipart then the payload will be \n",
    "        # returned as an array with the first index as \n",
    "        # the actual message in the mail\n",
    "        elif type(email_body) is list:\n",
    "            email_body = email_body[0].as_string()\n",
    "    \n",
    "    if type(email_subject) is not str:\n",
    "        if not email_subject:\n",
    "            email_subject = \"\"\n",
    "\n",
    "    full_email = email_subject + email_body\n",
    "    print(\"Stage 1\", end=\"-\")\n",
    "    \n",
    "    # Remove numbers and all special characters except space\n",
    "    full_email = re.sub(r'[^a-zA-Z]', ' ', full_email).lower()\n",
    "    print(\"Stage 2\", end=\"-\")\n",
    "    \n",
    "    words = nltk.word_tokenize(full_email)    \n",
    "        \n",
    "    # Remove stopwords\n",
    "    words = ' '.join([word for word in words if word not in stopwords])\n",
    "    print(\"Stage 3\", end=\"-\")\n",
    "    \n",
    "    # remove words that are not part of the english dictionary - using nltk tokenizer.\n",
    "    words = [word for word in words if word.lower() in wordlists or not word.isalpha()]\n",
    "    print(\"Stage 4\", end=\"-\")\n",
    "    \n",
    "    # Remove single letter words like 'b', 'd', etc..\n",
    "    full_email = re.sub(r\"\\b[a-zA-Z]\\b\", \" \", full_email)\n",
    "    print(\"Done.\")\n",
    "    \n",
    "    # The 3 extra features\n",
    "    subj_len = len(email_subject.split())\n",
    "    body_len = len(email_body.split())\n",
    "    hasReturnPath = 1 if \"Return-Path\" in mail else 0\n",
    "    \n",
    "    print(subj_len, body_len, hasReturnPath)\n",
    "    \n",
    "    clear_output()\n",
    "    return (file_path, full_email, subj_len, body_len, hasReturnPath)"
   ]
  },
  {
   "cell_type": "code",
   "execution_count": 5,
   "metadata": {},
   "outputs": [],
   "source": [
    "main_file_path = 'data/' # Change this to main data directory (keep the ending '/')"
   ]
  },
  {
   "cell_type": "code",
   "execution_count": 6,
   "metadata": {},
   "outputs": [],
   "source": [
    "data = pd.read_csv(main_file_path+'train/labels.csv')"
   ]
  },
  {
   "cell_type": "markdown",
   "metadata": {},
   "source": [
    "### Preprocess the Train mail"
   ]
  },
  {
   "cell_type": "code",
   "execution_count": 8,
   "metadata": {},
   "outputs": [],
   "source": [
    "data[['Id','email','subject_length', 'body_length', 'hasReturnPath']] = data.apply(lambda row: process_email_data(row['Id']), axis=1).apply(pd.Series)"
   ]
  },
  {
   "cell_type": "code",
   "execution_count": 9,
   "metadata": {},
   "outputs": [],
   "source": [
    "# Save dataset to drive (Preprocessing takes a long time)\n",
    "data[['Id','email','subject_length', 'body_length', 'hasReturnPath', 'Label']].to_csv(\"processed_train_dataset.csv\", index=False)"
   ]
  },
  {
   "cell_type": "markdown",
   "metadata": {},
   "source": [
    "### Preprocess the Test mail"
   ]
  },
  {
   "cell_type": "code",
   "execution_count": 10,
   "metadata": {},
   "outputs": [],
   "source": [
    "# Get test datapaths\n",
    "path = main_file_path + 'test'\n",
    "file_paths = pd.Series(['test/' + filename + '/' + fname for filename in os.listdir(path) for fname in os.listdir(main_file_path + 'test/' + filename)])"
   ]
  },
  {
   "cell_type": "code",
   "execution_count": 11,
   "metadata": {},
   "outputs": [
    {
     "data": {
      "text/html": [
       "<div>\n",
       "<style scoped>\n",
       "    .dataframe tbody tr th:only-of-type {\n",
       "        vertical-align: middle;\n",
       "    }\n",
       "\n",
       "    .dataframe tbody tr th {\n",
       "        vertical-align: top;\n",
       "    }\n",
       "\n",
       "    .dataframe thead th {\n",
       "        text-align: right;\n",
       "    }\n",
       "</style>\n",
       "<table border=\"1\" class=\"dataframe\">\n",
       "  <thead>\n",
       "    <tr style=\"text-align: right;\">\n",
       "      <th></th>\n",
       "      <th>Id</th>\n",
       "      <th>email</th>\n",
       "      <th>subject_length</th>\n",
       "      <th>body_length</th>\n",
       "      <th>hasReturnPath</th>\n",
       "    </tr>\n",
       "  </thead>\n",
       "  <tbody>\n",
       "    <tr>\n",
       "      <th>0</th>\n",
       "      <td>test/000/001</td>\n",
       "      <td>ngx failover plan  hi chris     tonight we are...</td>\n",
       "      <td>3</td>\n",
       "      <td>101</td>\n",
       "      <td>1</td>\n",
       "    </tr>\n",
       "    <tr>\n",
       "      <th>1</th>\n",
       "      <td>test/000/007</td>\n",
       "      <td>internet advertising agreementmark      am wor...</td>\n",
       "      <td>3</td>\n",
       "      <td>97</td>\n",
       "      <td>1</td>\n",
       "    </tr>\n",
       "    <tr>\n",
       "      <th>2</th>\n",
       "      <td>test/000/009</td>\n",
       "      <td>fmpa oil invoicemark and charlie   fmpa is rea...</td>\n",
       "      <td>3</td>\n",
       "      <td>89</td>\n",
       "      <td>1</td>\n",
       "    </tr>\n",
       "    <tr>\n",
       "      <th>3</th>\n",
       "      <td>test/000/012</td>\n",
       "      <td>per eric moon    attached you will find the st...</td>\n",
       "      <td>0</td>\n",
       "      <td>27</td>\n",
       "      <td>1</td>\n",
       "    </tr>\n",
       "    <tr>\n",
       "      <th>4</th>\n",
       "      <td>test/000/019</td>\n",
       "      <td>fwd  truly irish          return path   comein...</td>\n",
       "      <td>3</td>\n",
       "      <td>515</td>\n",
       "      <td>0</td>\n",
       "    </tr>\n",
       "  </tbody>\n",
       "</table>\n",
       "</div>"
      ],
      "text/plain": [
       "             Id                                              email  \\\n",
       "0  test/000/001  ngx failover plan  hi chris     tonight we are...   \n",
       "1  test/000/007  internet advertising agreementmark      am wor...   \n",
       "2  test/000/009  fmpa oil invoicemark and charlie   fmpa is rea...   \n",
       "3  test/000/012  per eric moon    attached you will find the st...   \n",
       "4  test/000/019  fwd  truly irish          return path   comein...   \n",
       "\n",
       "   subject_length  body_length  hasReturnPath  \n",
       "0               3          101              1  \n",
       "1               3           97              1  \n",
       "2               3           89              1  \n",
       "3               0           27              1  \n",
       "4               3          515              0  "
      ]
     },
     "execution_count": 11,
     "metadata": {},
     "output_type": "execute_result"
    }
   ],
   "source": [
    "test_data = file_paths.apply(lambda row: process_email_data(row)).apply(pd.Series)\n",
    "test_data.columns = ['Id','email','subject_length', 'body_length', 'hasReturnPath']\n",
    "test_data.head()"
   ]
  },
  {
   "cell_type": "code",
   "execution_count": 14,
   "metadata": {},
   "outputs": [],
   "source": [
    "test_data.to_csv(\"processed_test_dataset.csv\", index=False)"
   ]
  },
  {
   "cell_type": "code",
   "execution_count": 13,
   "metadata": {},
   "outputs": [
    {
     "data": {
      "text/html": [
       "<div>\n",
       "<style scoped>\n",
       "    .dataframe tbody tr th:only-of-type {\n",
       "        vertical-align: middle;\n",
       "    }\n",
       "\n",
       "    .dataframe tbody tr th {\n",
       "        vertical-align: top;\n",
       "    }\n",
       "\n",
       "    .dataframe thead th {\n",
       "        text-align: right;\n",
       "    }\n",
       "</style>\n",
       "<table border=\"1\" class=\"dataframe\">\n",
       "  <thead>\n",
       "    <tr style=\"text-align: right;\">\n",
       "      <th></th>\n",
       "      <th>Id</th>\n",
       "      <th>email</th>\n",
       "      <th>subject_length</th>\n",
       "      <th>body_length</th>\n",
       "      <th>hasReturnPath</th>\n",
       "    </tr>\n",
       "  </thead>\n",
       "  <tbody>\n",
       "    <tr>\n",
       "      <th>0</th>\n",
       "      <td>test/000/001</td>\n",
       "      <td>ngx failover plan  hi chris     tonight we are...</td>\n",
       "      <td>3</td>\n",
       "      <td>101</td>\n",
       "      <td>1</td>\n",
       "    </tr>\n",
       "    <tr>\n",
       "      <th>1</th>\n",
       "      <td>test/000/007</td>\n",
       "      <td>internet advertising agreementmark      am wor...</td>\n",
       "      <td>3</td>\n",
       "      <td>97</td>\n",
       "      <td>1</td>\n",
       "    </tr>\n",
       "    <tr>\n",
       "      <th>2</th>\n",
       "      <td>test/000/009</td>\n",
       "      <td>fmpa oil invoicemark and charlie   fmpa is rea...</td>\n",
       "      <td>3</td>\n",
       "      <td>89</td>\n",
       "      <td>1</td>\n",
       "    </tr>\n",
       "    <tr>\n",
       "      <th>3</th>\n",
       "      <td>test/000/012</td>\n",
       "      <td>per eric moon    attached you will find the st...</td>\n",
       "      <td>0</td>\n",
       "      <td>27</td>\n",
       "      <td>1</td>\n",
       "    </tr>\n",
       "    <tr>\n",
       "      <th>4</th>\n",
       "      <td>test/000/019</td>\n",
       "      <td>fwd  truly irish          return path   comein...</td>\n",
       "      <td>3</td>\n",
       "      <td>515</td>\n",
       "      <td>0</td>\n",
       "    </tr>\n",
       "  </tbody>\n",
       "</table>\n",
       "</div>"
      ],
      "text/plain": [
       "             Id                                              email  \\\n",
       "0  test/000/001  ngx failover plan  hi chris     tonight we are...   \n",
       "1  test/000/007  internet advertising agreementmark      am wor...   \n",
       "2  test/000/009  fmpa oil invoicemark and charlie   fmpa is rea...   \n",
       "3  test/000/012  per eric moon    attached you will find the st...   \n",
       "4  test/000/019  fwd  truly irish          return path   comein...   \n",
       "\n",
       "   subject_length  body_length  hasReturnPath  \n",
       "0               3          101              1  \n",
       "1               3           97              1  \n",
       "2               3           89              1  \n",
       "3               0           27              1  \n",
       "4               3          515              0  "
      ]
     },
     "execution_count": 13,
     "metadata": {},
     "output_type": "execute_result"
    }
   ],
   "source": [
    "test_data.head()"
   ]
  },
  {
   "cell_type": "code",
   "execution_count": null,
   "metadata": {},
   "outputs": [],
   "source": []
  }
 ],
 "metadata": {
  "kernelspec": {
   "display_name": "Python 3",
   "language": "python",
   "name": "python3"
  },
  "language_info": {
   "codemirror_mode": {
    "name": "ipython",
    "version": 3
   },
   "file_extension": ".py",
   "mimetype": "text/x-python",
   "name": "python",
   "nbconvert_exporter": "python",
   "pygments_lexer": "ipython3",
   "version": "3.6.8"
  }
 },
 "nbformat": 4,
 "nbformat_minor": 4
}
