{
 "cells": [
  {
   "cell_type": "markdown",
   "metadata": {},
   "source": [
    "# Assignment 3, Evalution\n",
    "\n",
    "This notebook can be used for evaluating an entity ranking against the ground truth."
   ]
  },
  {
   "cell_type": "code",
   "execution_count": null,
   "metadata": {},
   "outputs": [],
   "source": [
    "import math"
   ]
  },
  {
   "cell_type": "code",
   "execution_count": null,
   "metadata": {},
   "outputs": [],
   "source": [
    "RANKING_FILE = \"ranking_sdm_elr_q1.csv\"\n",
    "QRELS_FILE = \"data/qrels.csv\""
   ]
  },
  {
   "cell_type": "markdown",
   "metadata": {},
   "source": [
    "## Loading ranking file"
   ]
  },
  {
   "cell_type": "code",
   "execution_count": null,
   "metadata": {},
   "outputs": [],
   "source": [
    "def load_rankings(ranking_file):\n",
    "    rankings = {}\n",
    "    with open(ranking_file, \"r\", encoding=\"utf8\") as fin:\n",
    "        header = fin.readline().strip()\n",
    "        if header != \"QueryId EntityId\":\n",
    "            raise Exception(\"Incorrect file format!\")\n",
    "        for line in fin.readlines():\n",
    "#             print(line)\n",
    "            qid, _ = line.strip().split(\" \")\n",
    "            docid = _[:-1]  # remove trailing \"\n",
    "            if qid not in rankings:\n",
    "                rankings[qid] = []\n",
    "            rankings[qid].append(docid)\n",
    "    return rankings"
   ]
  },
  {
   "cell_type": "markdown",
   "metadata": {},
   "source": [
    "## Loading relevance judgments"
   ]
  },
  {
   "cell_type": "code",
   "execution_count": null,
   "metadata": {},
   "outputs": [],
   "source": [
    "def load_qrels(qrels_file):\n",
    "    qrels = {}\n",
    "    with open(qrels_file, \"r\", encoding=\"utf8\") as fin:\n",
    "        header = fin.readline().strip()\n",
    "        if header != \"QueryId,EntityId,Relevance\":\n",
    "            raise Exception(\"Incorrect file format!\")\n",
    "        for line in fin.readlines():\n",
    "            qid, _ = line.strip().split(\",\\\"\")\n",
    "            docid, rel = _.split(\"\\\",\")\n",
    "            if qid not in qrels:\n",
    "                qrels[qid] = {}\n",
    "            qrels[qid][docid] = int(rel)\n",
    "    return qrels"
   ]
  },
  {
   "cell_type": "markdown",
   "metadata": {},
   "source": [
    "## Computing NDCG scores"
   ]
  },
  {
   "cell_type": "code",
   "execution_count": null,
   "metadata": {},
   "outputs": [],
   "source": [
    "def dcg(rel, p):\n",
    "    dcg = rel[0]\n",
    "    for i in range(1, min(p, len(rel))): \n",
    "        dcg += rel[i] / math.log(i + 1, 2)  # rank position is indexed from 1..\n",
    "    return dcg"
   ]
  },
  {
   "cell_type": "code",
   "execution_count": null,
   "metadata": {},
   "outputs": [],
   "source": [
    "def compute_ndcg(rankings, qrels, k=100):\n",
    "    sum_ndcg = 0\n",
    "    for qid, ranking in sorted(rankings.items()):\n",
    "        gt = qrels[qid]    \n",
    "        gains = []  # holds corresponding relevance levels for the ranked docs\n",
    "        for doc_id in ranking[:k]:\n",
    "            gain = gt.get(doc_id, 0)\n",
    "            gains.append(gain)\n",
    "\n",
    "        # relevance levels of the idealized ranking\n",
    "        gain_ideal = sorted([v for _, v in gt.items()], reverse=True)\n",
    "\n",
    "        ndcg = dcg(gains, k) / dcg(gain_ideal, k)\n",
    "        sum_ndcg += ndcg\n",
    "\n",
    "    return sum_ndcg / len(rankings)"
   ]
  },
  {
   "cell_type": "code",
   "execution_count": null,
   "metadata": {
    "collapsed": false,
    "jupyter": {
     "outputs_hidden": false
    }
   },
   "outputs": [],
   "source": [
    "qrels = load_qrels(QRELS_FILE)\n",
    "rankings = load_rankings(RANKING_FILE)\n",
    "\n",
    "print(\"NDCG@10: {}\".format(compute_ndcg(rankings, qrels, k=10)))\n",
    "print(\"NDCG@100: {}\".format(compute_ndcg(rankings, qrels)))"
   ]
  },
  {
   "cell_type": "code",
   "execution_count": null,
   "metadata": {},
   "outputs": [],
   "source": []
  }
 ],
 "metadata": {
  "kernelspec": {
   "display_name": "Python 3",
   "language": "python",
   "name": "python3"
  },
  "language_info": {
   "codemirror_mode": {
    "name": "ipython",
    "version": 3
   },
   "file_extension": ".py",
   "mimetype": "text/x-python",
   "name": "python",
   "nbconvert_exporter": "python",
   "pygments_lexer": "ipython3",
   "version": "3.6.8"
  }
 },
 "nbformat": 4,
 "nbformat_minor": 4
}
