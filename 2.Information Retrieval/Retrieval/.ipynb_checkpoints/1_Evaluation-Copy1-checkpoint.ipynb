{
 "cells": [
  {
   "cell_type": "markdown",
   "metadata": {},
   "source": [
    "# Assignment 2A, Part 1: Evaluation\n",
    "\n",
    "You are given two sample files, `data/sample_ranking.csv` and `data/sample_qrels.csv`, to test your solution.\n",
    "\n",
    "This notebook is to be used for evaluating the rankings generated in [Part 2](2_Retrieval.ipynb) and [Part 3](3_Multifield_retrieval.ipynb)."
   ]
  },
  {
   "cell_type": "code",
   "execution_count": 1,
   "metadata": {},
   "outputs": [],
   "source": [
    "RANKING_FILE = \"data/sample_ranking.csv\"  # file with the document rankings\n",
    "QRELS_FILE = \"data/sample_qrels.csv\"  # file with the relevance judgments (ground truth)"
   ]
  },
  {
   "cell_type": "markdown",
   "metadata": {},
   "source": [
    "**TODO**: Complete the function that calculates evaluation metrics for a given a ranking (`ranking`) against the ground truth (`gt`). It should return the results as a dictionary, where the key is the retrieval metric.\n",
    "\n",
    "(Hint: see [Exercises #1 and #2 from Lecture 8](https://github.com/kbalog/uis-dat640-fall2019/tree/master/exercises/lecture_08).)"
   ]
  },
  {
   "cell_type": "code",
   "execution_count": 2,
   "metadata": {},
   "outputs": [],
   "source": [
    "def eval_query(ranking, gt):\n",
    "    \"\"\"Calculates the ranking against the ground truth for a given query.\"\"\"\n",
    "    p5, p10, ap, rr, num_rel = 0, 0, 0, 0, 0\n",
    "\n",
    "    for i, doc_id in enumerate(ranking):\n",
    "        if doc_id in gt:\n",
    "            num_rel += 1  \n",
    "            pi = num_rel / (i + 1)\n",
    "            ap += pi  # AP\n",
    "            \n",
    "            if i < 10:\n",
    "                p10 += 1\n",
    "    \n",
    "            if rr == 0:  # Reciprocal rank\n",
    "                rr = 1 / (i + 1)\n",
    "                \n",
    "    p10 /= 10\n",
    "    ap /= len(gt)\n",
    "    \n",
    "    return {\"P10\": p10, \"AP\": ap, \"RR\": rr}"
   ]
  },
  {
   "cell_type": "markdown",
   "metadata": {},
   "source": [
    "**TODO**: Complete the function that evaluates an output file, which contains rankings for a set of queries. It is almost complete, you just need to add the computation of mean scores (over the entire query set)."
   ]
  },
  {
   "cell_type": "code",
   "execution_count": 3,
   "metadata": {},
   "outputs": [],
   "source": [
    "def eval(gt_file, output_file):\n",
    "    \"\"\"Prints evaluation scores for each query as well as the means over the query set.\"\"\"\n",
    "    # load data from ground truth file\n",
    "    gt = {}  # holds a list of relevant documents for each queryID\n",
    "    with open(gt_file, \"r\") as fin:\n",
    "        header = fin.readline().strip()\n",
    "        if header != \"queryID,docIDs\":\n",
    "            raise Exception(\"Incorrect file format!\")\n",
    "        for line in fin.readlines():\n",
    "            qid, docids = line.strip().split(\",\")\n",
    "            gt[qid] = docids.split()\n",
    "            \n",
    "    # load data from output file\n",
    "    output = {}\n",
    "    with open(output_file, \"r\") as fin:\n",
    "        header = fin.readline().strip()\n",
    "        if header != \"QueryId,DocumentId\":\n",
    "            raise Exception(\"Incorrect file format!\")\n",
    "        for line in fin.readlines():\n",
    "            qid, docid = line.strip().split(\",\")\n",
    "            if qid not in output:\n",
    "                output[qid] = []\n",
    "            output[qid].append(docid)\n",
    "    \n",
    "    # evaluate each query that is in the ground truth\n",
    "    print(\"  QID  P@10   (M)AP  (M)RR\")\n",
    "    sum_p10, sum_ap, sum_rr = 0, 0, 0\n",
    "    for qid in sorted(gt.keys()):\n",
    "        res = eval_query(output.get(qid, []), gt.get(qid, []))\n",
    "        print(\"%5s %6.3f %6.3f %6.3f\" % (qid, res[\"P10\"], res[\"AP\"], res[\"RR\"]))\n",
    "        sum_p10 += res[\"P10\"]\n",
    "        sum_ap += res[\"AP\"]\n",
    "        sum_rr += res[\"RR\"]\n",
    "    \n",
    "    # TODO compute averages over the entire query set\n",
    "    \n",
    "    # print averages\n",
    "    print(\"%5s %6.3f %6.3f %6.3f\" % (\"ALL\", round(sum_p10 / len(gt.keys()), 3), round(sum_ap / len(gt.keys()), 3), round(sum_rr / len(gt.keys()), 3)))"
   ]
  },
  {
   "cell_type": "markdown",
   "metadata": {},
   "source": [
    "### Main"
   ]
  },
  {
   "cell_type": "code",
   "execution_count": 4,
   "metadata": {},
   "outputs": [
    {
     "name": "stdout",
     "output_type": "stream",
     "text": [
      "  QID  P@10   (M)AP  (M)RR\n",
      "   Q1  0.200  0.467  1.000\n",
      "   Q2  0.500  0.925  1.000\n",
      "   Q3  0.100  0.500  0.500\n",
      "  ALL  0.267  0.631  0.833\n"
     ]
    }
   ],
   "source": [
    "eval(QRELS_FILE, RANKING_FILE)"
   ]
  },
  {
   "cell_type": "code",
   "execution_count": 5,
   "metadata": {},
   "outputs": [
    {
     "name": "stdout",
     "output_type": "stream",
     "text": [
      "  QID  P@10   (M)AP  (M)RR\n",
      "  303  0.600  0.313  1.000\n",
      "  307  0.000  0.003  0.031\n",
      "  310  0.100  0.028  0.250\n",
      "  314  0.000  0.000  0.000\n",
      "  322  0.100  0.006  0.200\n",
      "  325  0.000  0.000  0.000\n",
      "  330  0.000  0.000  0.000\n",
      "  336  0.200  0.181  0.500\n",
      "  341  0.000  0.005  0.021\n",
      "  344  0.000  0.000  0.000\n",
      "  347  0.700  0.137  1.000\n",
      "  353  0.000  0.000  0.000\n",
      "  354  0.200  0.021  0.500\n",
      "  362  0.200  0.101  0.143\n",
      "  363  0.400  0.046  0.333\n",
      "  367  0.100  0.010  0.200\n",
      "  372  0.000  0.000  0.000\n",
      "  374  0.100  0.172  0.143\n",
      "  383  0.100  0.016  0.125\n",
      "  389  0.000  0.000  0.000\n",
      "  393  0.300  0.062  0.200\n",
      "  399  0.600  0.049  1.000\n",
      "  401  0.100  0.007  0.500\n",
      "  404  0.300  0.092  0.500\n",
      "  408  0.100  0.005  0.200\n",
      "  409  0.100  0.007  0.143\n",
      "  416  0.000  0.005  0.026\n",
      "  419  0.100  0.086  1.000\n",
      "  426  0.600  0.117  0.333\n",
      "  427  0.800  0.552  1.000\n",
      "  433  0.200  0.091  0.500\n",
      "  435  0.000  0.009  0.048\n",
      "  436  0.100  0.006  0.100\n",
      "  439  0.000  0.001  0.053\n",
      "  443  0.000  0.012  0.040\n",
      "  448  0.000  0.002  0.062\n",
      "  622  0.800  0.256  1.000\n",
      "  625  0.000  0.003  0.021\n",
      "  638  0.400  0.077  1.000\n",
      "  639  0.000  0.001  0.012\n",
      "  648  0.500  0.347  1.000\n",
      "  650  0.200  0.056  0.167\n",
      "  651  0.000  0.000  0.000\n",
      "  658  0.300  0.127  1.000\n",
      "  689  0.000  0.000  0.000\n",
      "  ALL  0.184  0.067  0.319\n"
     ]
    }
   ],
   "source": [
    "eval(\"data/qrels2.csv\", \"bm25_singlefield.csv\")"
   ]
  },
  {
   "cell_type": "code",
   "execution_count": 6,
   "metadata": {},
   "outputs": [
    {
     "name": "stdout",
     "output_type": "stream",
     "text": [
      "  QID  P@10   (M)AP  (M)RR\n",
      "  303  0.000  0.000  0.000\n",
      "  307  0.000  0.000  0.000\n",
      "  310  0.000  0.000  0.000\n",
      "  314  0.000  0.000  0.000\n",
      "  322  0.100  0.005  0.143\n",
      "  325  0.000  0.000  0.000\n",
      "  330  0.000  0.000  0.000\n",
      "  336  0.100  0.071  0.500\n",
      "  341  0.000  0.000  0.000\n",
      "  344  0.000  0.000  0.000\n",
      "  347  0.100  0.021  0.200\n",
      "  353  0.000  0.000  0.000\n",
      "  354  0.300  0.006  0.333\n",
      "  362  0.000  0.000  0.000\n",
      "  363  0.000  0.000  0.000\n",
      "  367  0.100  0.011  0.200\n",
      "  372  0.000  0.011  0.023\n",
      "  374  0.000  0.000  0.000\n",
      "  383  0.000  0.014  0.034\n",
      "  389  0.000  0.000  0.000\n",
      "  393  0.000  0.000  0.000\n",
      "  399  0.100  0.001  0.111\n",
      "  401  0.100  0.002  0.111\n",
      "  404  0.100  0.048  0.143\n",
      "  408  0.000  0.001  0.017\n",
      "  409  0.000  0.006  0.050\n",
      "  416  0.000  0.000  0.000\n",
      "  419  0.000  0.000  0.000\n",
      "  426  0.100  0.074  0.125\n",
      "  427  0.000  0.000  0.000\n",
      "  433  0.000  0.000  0.000\n",
      "  435  0.000  0.010  0.056\n",
      "  436  0.000  0.006  0.038\n",
      "  439  0.000  0.000  0.000\n",
      "  443  0.000  0.000  0.016\n",
      "  448  0.100  0.003  0.143\n",
      "  622  0.000  0.000  0.000\n",
      "  625  0.000  0.000  0.000\n",
      "  638  0.000  0.000  0.000\n",
      "  639  0.000  0.002  0.043\n",
      "  648  0.300  0.226  1.000\n",
      "  650  0.000  0.000  0.000\n",
      "  651  0.000  0.000  0.000\n",
      "  658  0.100  0.041  0.500\n",
      "  689  0.000  0.000  0.000\n",
      "  ALL  0.036  0.012  0.084\n"
     ]
    }
   ],
   "source": [
    "eval(\"data/qrels2.csv\", \"lm_singlefield.csv\")"
   ]
  },
  {
   "cell_type": "code",
   "execution_count": 7,
   "metadata": {},
   "outputs": [
    {
     "name": "stdout",
     "output_type": "stream",
     "text": [
      "  QID  P@10   (M)AP  (M)RR\n",
      "  303  0.600  0.291  1.000\n",
      "  307  0.000  0.008  0.029\n",
      "  310  0.100  0.014  0.125\n",
      "  314  0.000  0.000  0.000\n",
      "  322  0.000  0.007  0.034\n",
      "  325  0.000  0.008  0.015\n",
      "  330  0.000  0.000  0.000\n",
      "  336  0.200  0.156  0.333\n",
      "  341  0.000  0.011  0.024\n",
      "  344  0.000  0.000  0.000\n",
      "  347  0.500  0.065  1.000\n",
      "  353  0.000  0.000  0.000\n",
      "  354  0.400  0.015  0.500\n",
      "  362  0.800  0.225  0.500\n",
      "  363  0.500  0.053  1.000\n",
      "  367  0.100  0.014  0.125\n",
      "  372  0.000  0.000  0.000\n",
      "  374  0.600  0.286  0.333\n",
      "  383  0.200  0.036  0.250\n",
      "  389  0.000  0.000  0.000\n",
      "  393  0.200  0.061  0.167\n",
      "  399  0.500  0.055  0.500\n",
      "  401  0.100  0.014  1.000\n",
      "  404  0.100  0.029  0.500\n",
      "  408  0.100  0.005  0.200\n",
      "  409  0.100  0.011  0.333\n",
      "  416  0.100  0.019  0.111\n",
      "  419  0.000  0.012  0.077\n",
      "  426  0.100  0.090  0.125\n",
      "  427  0.800  0.594  1.000\n",
      "  433  0.300  0.196  1.000\n",
      "  435  0.000  0.030  0.059\n",
      "  436  0.000  0.014  0.091\n",
      "  439  0.000  0.002  0.067\n",
      "  443  0.000  0.016  0.091\n",
      "  448  0.000  0.009  0.083\n",
      "  622  1.000  0.328  1.000\n",
      "  625  0.000  0.007  0.062\n",
      "  638  0.200  0.050  0.333\n",
      "  639  0.000  0.002  0.019\n",
      "  648  0.500  0.300  0.500\n",
      "  650  0.200  0.112  0.500\n",
      "  651  0.000  0.000  0.011\n",
      "  658  0.400  0.156  1.000\n",
      "  689  0.000  0.000  0.000\n",
      "  ALL  0.193  0.073  0.313\n"
     ]
    }
   ],
   "source": [
    "eval(\"data/qrels2.csv\", \"bm25f_multifield.csv\")"
   ]
  },
  {
   "cell_type": "code",
   "execution_count": 8,
   "metadata": {},
   "outputs": [
    {
     "name": "stdout",
     "output_type": "stream",
     "text": [
      "  QID  P@10   (M)AP  (M)RR\n",
      "  303  0.000  0.000  0.000\n",
      "  307  0.000  0.000  0.000\n",
      "  310  0.100  0.019  0.167\n",
      "  314  0.000  0.000  0.000\n",
      "  322  0.000  0.005  0.067\n",
      "  325  0.000  0.002  0.012\n",
      "  330  0.000  0.000  0.000\n",
      "  336  0.200  0.041  0.167\n",
      "  341  0.000  0.000  0.000\n",
      "  344  0.000  0.000  0.000\n",
      "  347  0.500  0.096  0.250\n",
      "  353  0.000  0.000  0.000\n",
      "  354  0.200  0.007  1.000\n",
      "  362  0.300  0.124  1.000\n",
      "  363  0.300  0.033  1.000\n",
      "  367  0.100  0.016  0.167\n",
      "  372  0.100  0.167  0.333\n",
      "  374  0.300  0.126  0.250\n",
      "  383  0.200  0.024  0.167\n",
      "  389  0.000  0.000  0.000\n",
      "  393  0.000  0.048  0.071\n",
      "  399  0.700  0.062  1.000\n",
      "  401  0.100  0.002  0.167\n",
      "  404  0.100  0.039  0.143\n",
      "  408  0.000  0.001  0.037\n",
      "  409  0.100  0.005  0.167\n",
      "  416  0.000  0.022  0.071\n",
      "  419  0.000  0.001  0.012\n",
      "  426  0.100  0.141  0.111\n",
      "  427  0.900  0.604  1.000\n",
      "  433  0.100  0.016  0.250\n",
      "  435  0.000  0.014  0.083\n",
      "  436  0.000  0.016  0.038\n",
      "  439  0.000  0.002  0.071\n",
      "  443  0.100  0.007  0.100\n",
      "  448  0.000  0.001  0.040\n",
      "  622  0.600  0.218  0.500\n",
      "  625  0.000  0.005  0.043\n",
      "  638  0.500  0.110  1.000\n",
      "  639  0.000  0.000  0.000\n",
      "  648  0.500  0.186  1.000\n",
      "  650  0.100  0.055  0.200\n",
      "  651  0.000  0.002  0.013\n",
      "  658  0.300  0.075  0.333\n",
      "  689  0.000  0.000  0.000\n",
      "  ALL  0.144  0.051  0.245\n"
     ]
    }
   ],
   "source": [
    "eval(\"data/qrels2.csv\", \"mlm_multifield.csv\")"
   ]
  },
  {
   "cell_type": "code",
   "execution_count": null,
   "metadata": {},
   "outputs": [],
   "source": []
  }
 ],
 "metadata": {
  "kernelspec": {
   "display_name": "Python 3",
   "language": "python",
   "name": "python3"
  },
  "language_info": {
   "codemirror_mode": {
    "name": "ipython",
    "version": 3
   },
   "file_extension": ".py",
   "mimetype": "text/x-python",
   "name": "python",
   "nbconvert_exporter": "python",
   "pygments_lexer": "ipython3",
   "version": "3.6.8"
  }
 },
 "nbformat": 4,
 "nbformat_minor": 4
}
