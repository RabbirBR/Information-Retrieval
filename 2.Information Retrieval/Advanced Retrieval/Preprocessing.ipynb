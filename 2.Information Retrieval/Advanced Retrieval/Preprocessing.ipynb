{
 "cells": [
  {
   "cell_type": "markdown",
   "metadata": {},
   "source": [
    "# What is this for?\n",
    "\n",
    "The purpose of this notebook is to load the data from the raw files, and save them into their own pickle files with a dictionary structure for easy lookup, so that the main files for the assignment can stay true to what they are for. The files are as follows -\n",
    "\n",
    "- data/qrels.csv"
   ]
  },
  {
   "cell_type": "code",
   "execution_count": 1,
   "metadata": {},
   "outputs": [],
   "source": [
    "import pickle\n",
    "\n",
    "from IPython.display import clear_output"
   ]
  },
  {
   "cell_type": "code",
   "execution_count": 2,
   "metadata": {},
   "outputs": [
    {
     "name": "stdout",
     "output_type": "stream",
     "text": [
      "Done\n"
     ]
    }
   ],
   "source": [
    "# Getting Query document rankings from file 'data/qrels.csv'\n",
    "dict_to_save = {}\n",
    "\n",
    "with open(\"data/qrels.csv\") as f:    \n",
    "    for line in f:\n",
    "        clear_output()\n",
    "        \n",
    "        line = line.rstrip().split(',')\n",
    "        print(line)\n",
    "        if line[0] == 'QueryId':\n",
    "            continue        \n",
    "        \n",
    "        if line[0] not in dict_to_save.keys():\n",
    "            dict_to_save[line[0]] = {\n",
    "                line[1]: int(line[2])\n",
    "            }\n",
    "        else:\n",
    "            dict_to_save[line[0]][line[1]] = int(line[2])\n",
    "        \n",
    "        print(dict_to_save[line[0]][line[1]], \" - \", type(dict_to_save[line[0]][line[1]]))\n",
    "        \n",
    "clear_output()\n",
    "pickle.dump(dict_to_save, open(\"data/qrels.p\", \"wb\"))\n",
    "print(\"Done\")"
   ]
  }
 ],
 "metadata": {
  "kernelspec": {
   "display_name": "Python 3",
   "language": "python",
   "name": "python3"
  },
  "language_info": {
   "codemirror_mode": {
    "name": "ipython",
    "version": 3
   },
   "file_extension": ".py",
   "mimetype": "text/x-python",
   "name": "python",
   "nbconvert_exporter": "python",
   "pygments_lexer": "ipython3",
   "version": "3.6.8"
  }
 },
 "nbformat": 4,
 "nbformat_minor": 4
}
